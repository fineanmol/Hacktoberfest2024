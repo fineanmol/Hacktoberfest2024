{
 "cells": [
  {
   "cell_type": "markdown",
   "metadata": {},
   "source": [
    "Some random quotations : \n",
    "\n",
    "Stephen Hawking once said:\n",
    "*“Artificial Intelligence (AI) is likely to be either the best or the worst thing to happen to humanity”*"
   ]
  },
  {
   "cell_type": "code",
   "execution_count": 1,
   "metadata": {
    "execution": {
     "iopub.execute_input": "2023-06-07T03:49:23.863254Z",
     "iopub.status.busy": "2023-06-07T03:49:23.862724Z",
     "iopub.status.idle": "2023-06-07T03:49:23.871031Z",
     "shell.execute_reply": "2023-06-07T03:49:23.869752Z",
     "shell.execute_reply.started": "2023-06-07T03:49:23.863216Z"
    }
   },
   "outputs": [
    {
     "data": {
      "text/plain": [
       "'Artificial Intelligence (AI) is likely to be either the best or the worst thing to happen to humanity'"
      ]
     },
     "execution_count": 1,
     "metadata": {},
     "output_type": "execute_result"
    }
   ],
   "source": [
    "sentence = \"Artificial Intelligence (AI) is likely to be either the best or the worst thing to happen to humanity\"\n",
    "sentence"
   ]
  },
  {
   "cell_type": "code",
   "execution_count": 2,
   "metadata": {
    "scrolled": true
   },
   "outputs": [
    {
     "name": "stdout",
     "output_type": "stream",
     "text": [
      "Requirement already satisfied: numpy in ./venv/lib/python3.10/site-packages (1.24.3)\n",
      "Requirement already satisfied: pandas in ./venv/lib/python3.10/site-packages (2.0.2)\n",
      "Requirement already satisfied: nltk in ./venv/lib/python3.10/site-packages (3.8.1)\n",
      "Requirement already satisfied: matplotlib in ./venv/lib/python3.10/site-packages (3.7.1)\n",
      "Requirement already satisfied: python-dateutil>=2.8.2 in ./venv/lib/python3.10/site-packages (from pandas) (2.8.2)\n",
      "Requirement already satisfied: pytz>=2020.1 in ./venv/lib/python3.10/site-packages (from pandas) (2023.3)\n",
      "Requirement already satisfied: tzdata>=2022.1 in ./venv/lib/python3.10/site-packages (from pandas) (2023.3)\n",
      "Requirement already satisfied: joblib in ./venv/lib/python3.10/site-packages (from nltk) (1.2.0)\n",
      "Requirement already satisfied: click in ./venv/lib/python3.10/site-packages (from nltk) (8.1.3)\n",
      "Requirement already satisfied: regex>=2021.8.3 in ./venv/lib/python3.10/site-packages (from nltk) (2023.6.3)\n",
      "Requirement already satisfied: tqdm in ./venv/lib/python3.10/site-packages (from nltk) (4.65.0)\n",
      "Requirement already satisfied: packaging>=20.0 in ./venv/lib/python3.10/site-packages (from matplotlib) (23.1)\n",
      "Requirement already satisfied: pyparsing>=2.3.1 in ./venv/lib/python3.10/site-packages (from matplotlib) (3.0.9)\n",
      "Requirement already satisfied: cycler>=0.10 in ./venv/lib/python3.10/site-packages (from matplotlib) (0.11.0)\n",
      "Requirement already satisfied: contourpy>=1.0.1 in ./venv/lib/python3.10/site-packages (from matplotlib) (1.0.7)\n",
      "Requirement already satisfied: kiwisolver>=1.0.1 in ./venv/lib/python3.10/site-packages (from matplotlib) (1.4.4)\n",
      "Requirement already satisfied: pillow>=6.2.0 in ./venv/lib/python3.10/site-packages (from matplotlib) (9.5.0)\n",
      "Requirement already satisfied: fonttools>=4.22.0 in ./venv/lib/python3.10/site-packages (from matplotlib) (4.39.4)\n",
      "Requirement already satisfied: six>=1.5 in ./venv/lib/python3.10/site-packages (from python-dateutil>=2.8.2->pandas) (1.16.0)\n"
     ]
    }
   ],
   "source": [
    "!pip install numpy pandas nltk matplotlib"
   ]
  },
  {
   "cell_type": "code",
   "execution_count": 3,
   "metadata": {
    "execution": {
     "iopub.execute_input": "2023-06-07T03:49:23.874088Z",
     "iopub.status.busy": "2023-06-07T03:49:23.873589Z",
     "iopub.status.idle": "2023-06-07T03:49:23.888217Z",
     "shell.execute_reply": "2023-06-07T03:49:23.887184Z",
     "shell.execute_reply.started": "2023-06-07T03:49:23.874038Z"
    }
   },
   "outputs": [
    {
     "data": {
      "text/plain": [
       "101"
      ]
     },
     "execution_count": 3,
     "metadata": {},
     "output_type": "execute_result"
    }
   ],
   "source": [
    "# length\n",
    "len(sentence)"
   ]
  },
  {
   "cell_type": "code",
   "execution_count": 4,
   "metadata": {
    "execution": {
     "iopub.execute_input": "2023-06-07T03:49:23.890587Z",
     "iopub.status.busy": "2023-06-07T03:49:23.889592Z",
     "iopub.status.idle": "2023-06-07T03:49:23.900045Z",
     "shell.execute_reply": "2023-06-07T03:49:23.899038Z",
     "shell.execute_reply.started": "2023-06-07T03:49:23.890549Z"
    }
   },
   "outputs": [
    {
     "name": "stdout",
     "output_type": "stream",
     "text": [
      "{'a', 'e', 'w', '(', 'u', 's', 't', 'c', 'r', 'n', 'p', 'y', 'i', 'g', 'o', 'I', ' ', 'h', 'k', 'm', 'A', ')', 'l', 'b', 'f'}\n",
      "25\n"
     ]
    }
   ],
   "source": [
    "# unique chars\n",
    "print (set(sentence))\n",
    "print(len(set(sentence)))"
   ]
  },
  {
   "cell_type": "code",
   "execution_count": 5,
   "metadata": {
    "execution": {
     "iopub.execute_input": "2023-06-07T03:49:23.903468Z",
     "iopub.status.busy": "2023-06-07T03:49:23.902407Z",
     "iopub.status.idle": "2023-06-07T03:49:23.910935Z",
     "shell.execute_reply": "2023-06-07T03:49:23.909986Z",
     "shell.execute_reply.started": "2023-06-07T03:49:23.903431Z"
    }
   },
   "outputs": [
    {
     "name": "stdout",
     "output_type": "stream",
     "text": [
      "[' ', '(', ')', 'A', 'I', 'a', 'b', 'c', 'e', 'f', 'g', 'h', 'i', 'k', 'l', 'm', 'n', 'o', 'p', 'r', 's', 't', 'u', 'w', 'y']\n"
     ]
    }
   ],
   "source": [
    "print(sorted(set(sentence)))"
   ]
  },
  {
   "cell_type": "markdown",
   "metadata": {},
   "source": [
    "**Tokenization**\n",
    "Segmenting text into tokens . \n",
    "using *NLTK*"
   ]
  },
  {
   "cell_type": "code",
   "execution_count": 6,
   "metadata": {
    "execution": {
     "iopub.execute_input": "2023-06-07T03:49:23.913259Z",
     "iopub.status.busy": "2023-06-07T03:49:23.912749Z",
     "iopub.status.idle": "2023-06-07T03:49:23.923804Z",
     "shell.execute_reply": "2023-06-07T03:49:23.922622Z",
     "shell.execute_reply.started": "2023-06-07T03:49:23.913219Z"
    }
   },
   "outputs": [
    {
     "name": "stdout",
     "output_type": "stream",
     "text": [
      "['Artificial', 'Intelligence', '(', 'AI', ')', 'is', 'likely', 'to', 'be', 'either', 'the', 'best', 'or', 'the', 'worst', 'thing', 'to', 'happen', 'to', 'humanity']\n"
     ]
    }
   ],
   "source": [
    "import nltk\n",
    "from nltk.tokenize import word_tokenize \n",
    "tokenized_word  = word_tokenize(sentence)\n",
    "print(tokenized_word)"
   ]
  },
  {
   "cell_type": "markdown",
   "metadata": {},
   "source": []
  },
  {
   "cell_type": "code",
   "execution_count": 7,
   "metadata": {
    "execution": {
     "iopub.execute_input": "2023-06-07T03:49:23.926021Z",
     "iopub.status.busy": "2023-06-07T03:49:23.925607Z",
     "iopub.status.idle": "2023-06-07T03:49:23.938276Z",
     "shell.execute_reply": "2023-06-07T03:49:23.937001Z",
     "shell.execute_reply.started": "2023-06-07T03:49:23.925990Z"
    }
   },
   "outputs": [
    {
     "data": {
      "text/plain": [
       "20"
      ]
     },
     "execution_count": 7,
     "metadata": {},
     "output_type": "execute_result"
    }
   ],
   "source": [
    "len(tokenized_word)"
   ]
  },
  {
   "cell_type": "markdown",
   "metadata": {},
   "source": [
    "Now we can calculate a measure related to the lexical richness of the text: \n",
    "unique_tokens / tokens"
   ]
  },
  {
   "cell_type": "code",
   "execution_count": 8,
   "metadata": {
    "execution": {
     "iopub.execute_input": "2023-06-07T03:49:23.940933Z",
     "iopub.status.busy": "2023-06-07T03:49:23.939847Z",
     "iopub.status.idle": "2023-06-07T03:49:23.952813Z",
     "shell.execute_reply": "2023-06-07T03:49:23.951499Z",
     "shell.execute_reply.started": "2023-06-07T03:49:23.940873Z"
    }
   },
   "outputs": [
    {
     "data": {
      "text/plain": [
       "0.85"
      ]
     },
     "execution_count": 8,
     "metadata": {},
     "output_type": "execute_result"
    }
   ],
   "source": [
    "len(set(tokenized_word)) / len(tokenized_word)"
   ]
  },
  {
   "cell_type": "code",
   "execution_count": 9,
   "metadata": {
    "execution": {
     "iopub.execute_input": "2023-06-07T03:50:43.991400Z",
     "iopub.status.busy": "2023-06-07T03:50:43.990949Z",
     "iopub.status.idle": "2023-06-07T03:50:44.000864Z",
     "shell.execute_reply": "2023-06-07T03:50:43.999524Z",
     "shell.execute_reply.started": "2023-06-07T03:50:43.991368Z"
    }
   },
   "outputs": [
    {
     "data": {
      "text/plain": [
       "['artificial',\n",
       " 'intelligence',\n",
       " '(',\n",
       " 'ai',\n",
       " ')',\n",
       " 'is',\n",
       " 'likely',\n",
       " 'to',\n",
       " 'be',\n",
       " 'either',\n",
       " 'the',\n",
       " 'best',\n",
       " 'or',\n",
       " 'the',\n",
       " 'worst',\n",
       " 'thing',\n",
       " 'to',\n",
       " 'happen',\n",
       " 'to',\n",
       " 'humanity']"
      ]
     },
     "execution_count": 9,
     "metadata": {},
     "output_type": "execute_result"
    }
   ],
   "source": [
    "# lowercasing\n",
    "tokenized_word = [w.lower() for w in tokenized_word]\n",
    "tokenized_word"
   ]
  },
  {
   "cell_type": "markdown",
   "metadata": {},
   "source": [
    "Remove non alphanumeric chars"
   ]
  },
  {
   "cell_type": "code",
   "execution_count": 10,
   "metadata": {
    "execution": {
     "iopub.execute_input": "2023-06-07T03:59:33.635115Z",
     "iopub.status.busy": "2023-06-07T03:59:33.634628Z",
     "iopub.status.idle": "2023-06-07T03:59:33.644869Z",
     "shell.execute_reply": "2023-06-07T03:59:33.643612Z",
     "shell.execute_reply.started": "2023-06-07T03:59:33.635078Z"
    }
   },
   "outputs": [
    {
     "name": "stderr",
     "output_type": "stream",
     "text": [
      "[nltk_data] Downloading package punkt to /home/saugat/nltk_data...\n",
      "[nltk_data]   Package punkt is already up-to-date!\n"
     ]
    },
    {
     "data": {
      "text/plain": [
       "['artificial',\n",
       " 'intelligence',\n",
       " 'ai',\n",
       " 'is',\n",
       " 'likely',\n",
       " 'to',\n",
       " 'be',\n",
       " 'either',\n",
       " 'the',\n",
       " 'best',\n",
       " 'or',\n",
       " 'the',\n",
       " 'worst',\n",
       " 'thing',\n",
       " 'to',\n",
       " 'happen',\n",
       " 'to',\n",
       " 'humanity']"
      ]
     },
     "execution_count": 10,
     "metadata": {},
     "output_type": "execute_result"
    }
   ],
   "source": [
    "import re\n",
    "nltk.download(\"punkt\")\n",
    "patterns = r'[a-z0-9]+'\n",
    "tk_np = [w for w in tokenized_word if  re.search(patterns , w)]\n",
    "tk_np"
   ]
  },
  {
   "cell_type": "code",
   "execution_count": 11,
   "metadata": {
    "execution": {
     "iopub.execute_input": "2023-06-07T04:01:04.460907Z",
     "iopub.status.busy": "2023-06-07T04:01:04.460471Z",
     "iopub.status.idle": "2023-06-07T04:01:04.875900Z",
     "shell.execute_reply": "2023-06-07T04:01:04.874481Z",
     "shell.execute_reply.started": "2023-06-07T04:01:04.460876Z"
    }
   },
   "outputs": [
    {
     "name": "stderr",
     "output_type": "stream",
     "text": [
      "Matplotlib is building the font cache; this may take a moment.\n"
     ]
    },
    {
     "data": {
      "image/png": "[encoded data removed]",
      "text/plain": [
       "<Figure size 640x480 with 1 Axes>"
      ]
     },
     "metadata": {},
     "output_type": "display_data"
    },
    {
     "data": {
      "text/plain": [
       "<Axes: title={'center': 'Word frequency distribution'}, xlabel='Samples', ylabel='Cumulative Counts'>"
      ]
     },
     "execution_count": 11,
     "metadata": {},
     "output_type": "execute_result"
    }
   ],
   "source": [
    "from nltk.probability import FreqDist\n",
    "fdist = FreqDist(tk_np)\n",
    "fdist.plot(title = 'Word frequency distribution', cumulative = True)"
   ]
  },
  {
   "cell_type": "markdown",
   "metadata": {},
   "source": [
    "Stop words"
   ]
  },
  {
   "cell_type": "code",
   "execution_count": 12,
   "metadata": {
    "execution": {
     "iopub.execute_input": "2023-06-07T04:03:14.451282Z",
     "iopub.status.busy": "2023-06-07T04:03:14.450743Z",
     "iopub.status.idle": "2023-06-07T04:03:14.458766Z",
     "shell.execute_reply": "2023-06-07T04:03:14.457371Z",
     "shell.execute_reply.started": "2023-06-07T04:03:14.451242Z"
    }
   },
   "outputs": [
    {
     "name": "stdout",
     "output_type": "stream",
     "text": [
      "{'itself', 'is', 'an', 'those', 'before', 'again', \"didn't\", 'd', 'off', 's', 'him', \"you'd\", 'needn', 'our', \"wouldn't\", 'myself', 'because', 'below', \"shan't\", 'he', 'aren', \"don't\", 'shan', 'will', 'under', 'only', \"doesn't\", 'now', 'o', \"you're\", 'here', 'whom', 'himself', 'can', 'are', 'as', 'this', 'having', 'ma', 'nor', 'its', 'some', 'than', 'about', 'most', 'after', 'them', 'further', 'both', 'how', 'but', 'his', 'weren', 'such', 'do', 'too', 'during', 'don', 'then', \"hasn't\", 'at', 'against', 'yourself', 'mightn', 'the', 'same', 'who', 'there', 'y', \"mustn't\", 'wasn', 'hers', 're', \"it's\", 'ain', 'doesn', 'from', 'be', 'she', 'been', 'if', 'your', 'me', 'couldn', 'for', \"haven't\", 'or', 'these', 'why', \"you've\", 'not', 'a', 'have', 'when', 'over', 'had', 'until', 'didn', 't', 'yours', 'did', 'so', \"wasn't\", 'isn', 'won', 'ours', 'you', 'where', \"hadn't\", 'her', 'i', \"mightn't\", 'were', 'with', 'we', \"that'll\", 'which', 'by', 'into', \"won't\", 'up', \"shouldn't\", 'in', 'they', 'once', 'of', 'has', \"couldn't\", 'doing', \"should've\", \"weren't\", 'while', 'ourselves', 'hadn', 'that', 'more', 'very', 'mustn', 'was', 'herself', \"aren't\", 'above', 'should', 'other', 'wouldn', 'll', \"you'll\", 'between', \"she's\", 'through', 'just', 'own', 'themselves', 'shouldn', 'no', 'does', 'few', 'theirs', 'what', 'it', 've', 'out', 'my', 'any', \"isn't\", 'to', 'haven', 'm', 'their', \"needn't\", 'each', 'am', 'down', 'on', 'all', 'and', 'hasn', 'being', 'yourselves'}\n"
     ]
    }
   ],
   "source": [
    "from nltk.corpus import stopwords\n",
    "stop_words = set(stopwords.words(\"english\"))\n",
    "print(stop_words)"
   ]
  },
  {
   "cell_type": "code",
   "execution_count": 13,
   "metadata": {
    "execution": {
     "iopub.execute_input": "2023-06-07T04:17:35.875054Z",
     "iopub.status.busy": "2023-06-07T04:17:35.874553Z",
     "iopub.status.idle": "2023-06-07T04:17:35.882677Z",
     "shell.execute_reply": "2023-06-07T04:17:35.881349Z",
     "shell.execute_reply.started": "2023-06-07T04:17:35.875014Z"
    }
   },
   "outputs": [
    {
     "name": "stdout",
     "output_type": "stream",
     "text": [
      "['artificial', 'intelligence', 'ai', 'likely', 'either', 'best', 'worst', 'thing', 'happen', 'humanity']\n"
     ]
    }
   ],
   "source": [
    "filtered_text = []\n",
    "for w in tk_np:\n",
    "   if w not in stop_words:\n",
    "      filtered_text.append(w)\n",
    "print(filtered_text)"
   ]
  },
  {
   "cell_type": "code",
   "execution_count": 14,
   "metadata": {
    "execution": {
     "iopub.execute_input": "2023-06-07T04:18:36.455574Z",
     "iopub.status.busy": "2023-06-07T04:18:36.455088Z",
     "iopub.status.idle": "2023-06-07T04:18:37.220260Z",
     "shell.execute_reply": "2023-06-07T04:18:37.218894Z",
     "shell.execute_reply.started": "2023-06-07T04:18:36.455522Z"
    }
   },
   "outputs": [
    {
     "data": {
      "image/png": "[encoded data removed]",
      "text/plain": [
       "<Figure size 640x480 with 1 Axes>"
      ]
     },
     "metadata": {},
     "output_type": "display_data"
    },
    {
     "data": {
      "text/plain": [
       "<Axes: title={'center': 'Word frequency distribution'}, xlabel='Samples', ylabel='Cumulative Counts'>"
      ]
     },
     "execution_count": 14,
     "metadata": {},
     "output_type": "execute_result"
    }
   ],
   "source": [
    "from nltk.probability import FreqDist\n",
    "fdist = FreqDist(filtered_text)\n",
    "fdist.plot(title = 'Word frequency distribution', cumulative = True)"
   ]
  },
  {
   "cell_type": "code",
   "execution_count": 15,
   "metadata": {
    "execution": {
     "iopub.execute_input": "2023-06-07T04:19:41.991518Z",
     "iopub.status.busy": "2023-06-07T04:19:41.990774Z",
     "iopub.status.idle": "2023-06-07T04:19:41.999933Z",
     "shell.execute_reply": "2023-06-07T04:19:41.998758Z",
     "shell.execute_reply.started": "2023-06-07T04:19:41.991476Z"
    }
   },
   "outputs": [
    {
     "data": {
      "text/plain": [
       "['best', 'worst']"
      ]
     },
     "execution_count": 15,
     "metadata": {},
     "output_type": "execute_result"
    }
   ],
   "source": [
    "import re\n",
    "[w for w in filtered_text if re.search(r'st$' , w)]"
   ]
  },
  {
   "cell_type": "markdown",
   "metadata": {},
   "source": [
    "Or count the number of vowels in the first word (“artificial”):"
   ]
  },
  {
   "cell_type": "code",
   "execution_count": 16,
   "metadata": {
    "execution": {
     "iopub.execute_input": "2023-06-07T04:21:08.254806Z",
     "iopub.status.busy": "2023-06-07T04:21:08.254333Z",
     "iopub.status.idle": "2023-06-07T04:21:08.263595Z",
     "shell.execute_reply": "2023-06-07T04:21:08.262360Z",
     "shell.execute_reply.started": "2023-06-07T04:21:08.254773Z"
    }
   },
   "outputs": [
    {
     "data": {
      "text/plain": [
       "['a', 'i', 'i', 'i', 'a']"
      ]
     },
     "execution_count": 16,
     "metadata": {},
     "output_type": "execute_result"
    }
   ],
   "source": [
    "re.findall( r'[aeiou]' ,filtered_text[0] )"
   ]
  },
  {
   "cell_type": "code",
   "execution_count": null,
   "metadata": {},
   "outputs": [],
   "source": []
  }
 ],
 "metadata": {
  "kernelspec": {
   "display_name": "Python 3 (ipykernel)",
   "language": "python",
   "name": "python3"
  },
  "language_info": {
   "codemirror_mode": {
    "name": "ipython",
    "version": 3
   },
   "file_extension": ".py",
   "mimetype": "text/x-python",
   "name": "python",
   "nbconvert_exporter": "python",
   "pygments_lexer": "ipython3",
   "version": "3.10.6"
  }
 },
 "nbformat": 4,
 "nbformat_minor": 4
}
