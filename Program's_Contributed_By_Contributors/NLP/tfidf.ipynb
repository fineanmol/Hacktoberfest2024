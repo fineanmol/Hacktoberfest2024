{
 "cells": [
  {
   "cell_type": "markdown",
   "id": "cbf4a822",
   "metadata": {
    "papermill": {
     "duration": 0.002758,
     "end_time": "2023-06-07T07:20:07.261003",
     "exception": false,
     "start_time": "2023-06-07T07:20:07.258245",
     "status": "completed"
    },
    "tags": []
   },
   "source": [
    "## TFID  *(Term Frequency-Inverse Document Frequency)*\n",
    "\n",
    "* Term Frequency (TF): how many times a word appears in a document.\n",
    "* Inverse Document Frequency (IDF): the inverse document frequency of the word across a collection of documents. Rare words have high scores, common words have low scores.\n",
    "\n",
    "TF(word, document) = “number of occurrences of the word in the document” / “number of words in the document”\n",
    "\n",
    "IDF(word) = log(number of documents / number of documents that contain the word)\n",
    "\n",
    "### TF-IDF(word, document) = TF(word, document) * IDF(word)\n"
   ]
  },
  {
   "cell_type": "code",
   "execution_count": 6,
   "id": "bf1f6f0a",
   "metadata": {},
   "outputs": [
    {
     "name": "stdout",
     "output_type": "stream",
     "text": [
      "Collecting scikit-learn\n",
      "  Downloading scikit_learn-1.2.2-cp310-cp310-manylinux_2_17_x86_64.manylinux2014_x86_64.whl (9.6 MB)\n",
      "\u001b[2K     \u001b[38;2;114;156;31m━━━━━━━━━━━━━━━━━━━━━━━━━━━━━━━━━━━━━━━━\u001b[0m \u001b[32m9.6/9.6 MB\u001b[0m \u001b[31m3.1 MB/s\u001b[0m eta \u001b[36m0:00:00\u001b[0mm eta \u001b[36m0:00:01\u001b[0m[36m0:00:01\u001b[0m\n",
      "\u001b[?25hCollecting threadpoolctl>=2.0.0\n",
      "  Downloading threadpoolctl-3.1.0-py3-none-any.whl (14 kB)\n",
      "Requirement already satisfied: joblib>=1.1.1 in ./venv/lib/python3.10/site-packages (from scikit-learn) (1.2.0)\n",
      "Requirement already satisfied: scipy>=1.3.2 in ./venv/lib/python3.10/site-packages (from scikit-learn) (1.10.1)\n",
      "Requirement already satisfied: numpy>=1.17.3 in ./venv/lib/python3.10/site-packages (from scikit-learn) (1.24.3)\n",
      "Installing collected packages: threadpoolctl, scikit-learn\n",
      "Successfully installed scikit-learn-1.2.2 threadpoolctl-3.1.0\n"
     ]
    }
   ],
   "source": [
    "!pip install -U scikit-learn"
   ]
  },
  {
   "cell_type": "code",
   "execution_count": 7,
   "id": "595fbd3e",
   "metadata": {},
   "outputs": [],
   "source": [
    "import pandas as pd \n",
    "from sklearn.feature_extraction.text import TfidfVectorizer\n",
    "\n",
    "\n",
    "documentA = 'the man went out for a walk'\n",
    "documentB = 'the children sat around the fire'"
   ]
  },
  {
   "cell_type": "code",
   "execution_count": 8,
   "id": "3116bafa",
   "metadata": {},
   "outputs": [
    {
     "data": {
      "text/plain": [
       "['the', 'children', 'sat', 'around', 'the', 'fire']"
      ]
     },
     "execution_count": 8,
     "metadata": {},
     "output_type": "execute_result"
    }
   ],
   "source": [
    "bag_of_wordsA = documentA.split(\" \")\n",
    "bag_of_wordsB = documentB.split(\" \")\n",
    "bag_of_wordsB"
   ]
  },
  {
   "cell_type": "code",
   "execution_count": 10,
   "id": "1a7732dc",
   "metadata": {
    "execution": {
     "iopub.execute_input": "2023-06-07T07:20:08.524571Z",
     "iopub.status.busy": "2023-06-07T07:20:08.523510Z",
     "iopub.status.idle": "2023-06-07T07:20:08.528636Z",
     "shell.execute_reply": "2023-06-07T07:20:08.527738Z"
    },
    "papermill": {
     "duration": 0.011724,
     "end_time": "2023-06-07T07:20:08.530737",
     "exception": false,
     "start_time": "2023-06-07T07:20:08.519013",
     "status": "completed"
    },
    "tags": []
   },
   "outputs": [
    {
     "data": {
      "text/plain": [
       "{'a',\n",
       " 'around',\n",
       " 'children',\n",
       " 'fire',\n",
       " 'for',\n",
       " 'man',\n",
       " 'out',\n",
       " 'sat',\n",
       " 'the',\n",
       " 'walk',\n",
       " 'went'}"
      ]
     },
     "execution_count": 10,
     "metadata": {},
     "output_type": "execute_result"
    }
   ],
   "source": [
    "unique_words = set(bag_of_wordsA) .union( set(bag_of_wordsB))\n",
    "unique_words "
   ]
  },
  {
   "cell_type": "code",
   "execution_count": 5,
   "id": "b20ef74d",
   "metadata": {
    "execution": {
     "iopub.execute_input": "2023-06-07T07:20:08.539452Z",
     "iopub.status.busy": "2023-06-07T07:20:08.539066Z",
     "iopub.status.idle": "2023-06-07T07:20:08.542747Z",
     "shell.execute_reply": "2023-06-07T07:20:08.542031Z"
    },
    "papermill": {
     "duration": 0.010453,
     "end_time": "2023-06-07T07:20:08.544712",
     "exception": false,
     "start_time": "2023-06-07T07:20:08.534259",
     "status": "completed"
    },
    "tags": []
   },
   "outputs": [],
   "source": [
    "# num_of_wordsA = dict.keys(unique_words, 0)"
   ]
  },
  {
   "cell_type": "code",
   "execution_count": 13,
   "id": "5b09437a",
   "metadata": {
    "papermill": {
     "duration": 0.003259,
     "end_time": "2023-06-07T07:20:08.551555",
     "exception": false,
     "start_time": "2023-06-07T07:20:08.548296",
     "status": "completed"
    },
    "tags": []
   },
   "outputs": [],
   "source": [
    "wordsA = dict.fromkeys(unique_words,0 )\n",
    "for word in bag_of_wordsA:\n",
    "    wordsA[word]+=1\n",
    "wordsB = dict.fromkeys(unique_words,0 )\n",
    "for word in bag_of_wordsB:\n",
    "    wordsB[word]+=1"
   ]
  },
  {
   "cell_type": "code",
   "execution_count": 15,
   "id": "9493b047",
   "metadata": {},
   "outputs": [
    {
     "data": {
      "text/plain": [
       "{'children': 0,\n",
       " 'man': 1,\n",
       " 'a': 1,\n",
       " 'fire': 0,\n",
       " 'the': 1,\n",
       " 'sat': 0,\n",
       " 'around': 0,\n",
       " 'out': 1,\n",
       " 'went': 1,\n",
       " 'for': 1,\n",
       " 'walk': 1}"
      ]
     },
     "execution_count": 15,
     "metadata": {},
     "output_type": "execute_result"
    }
   ],
   "source": [
    "wordsA"
   ]
  },
  {
   "cell_type": "code",
   "execution_count": 14,
   "id": "12f9e344",
   "metadata": {},
   "outputs": [
    {
     "data": {
      "text/plain": [
       "['i',\n",
       " 'me',\n",
       " 'my',\n",
       " 'myself',\n",
       " 'we',\n",
       " 'our',\n",
       " 'ours',\n",
       " 'ourselves',\n",
       " 'you',\n",
       " \"you're\",\n",
       " \"you've\",\n",
       " \"you'll\",\n",
       " \"you'd\",\n",
       " 'your',\n",
       " 'yours',\n",
       " 'yourself',\n",
       " 'yourselves',\n",
       " 'he',\n",
       " 'him',\n",
       " 'his',\n",
       " 'himself',\n",
       " 'she',\n",
       " \"she's\",\n",
       " 'her',\n",
       " 'hers',\n",
       " 'herself',\n",
       " 'it',\n",
       " \"it's\",\n",
       " 'its',\n",
       " 'itself',\n",
       " 'they',\n",
       " 'them',\n",
       " 'their',\n",
       " 'theirs',\n",
       " 'themselves',\n",
       " 'what',\n",
       " 'which',\n",
       " 'who',\n",
       " 'whom',\n",
       " 'this',\n",
       " 'that',\n",
       " \"that'll\",\n",
       " 'these',\n",
       " 'those',\n",
       " 'am',\n",
       " 'is',\n",
       " 'are',\n",
       " 'was',\n",
       " 'were',\n",
       " 'be',\n",
       " 'been',\n",
       " 'being',\n",
       " 'have',\n",
       " 'has',\n",
       " 'had',\n",
       " 'having',\n",
       " 'do',\n",
       " 'does',\n",
       " 'did',\n",
       " 'doing',\n",
       " 'a',\n",
       " 'an',\n",
       " 'the',\n",
       " 'and',\n",
       " 'but',\n",
       " 'if',\n",
       " 'or',\n",
       " 'because',\n",
       " 'as',\n",
       " 'until',\n",
       " 'while',\n",
       " 'of',\n",
       " 'at',\n",
       " 'by',\n",
       " 'for',\n",
       " 'with',\n",
       " 'about',\n",
       " 'against',\n",
       " 'between',\n",
       " 'into',\n",
       " 'through',\n",
       " 'during',\n",
       " 'before',\n",
       " 'after',\n",
       " 'above',\n",
       " 'below',\n",
       " 'to',\n",
       " 'from',\n",
       " 'up',\n",
       " 'down',\n",
       " 'in',\n",
       " 'out',\n",
       " 'on',\n",
       " 'off',\n",
       " 'over',\n",
       " 'under',\n",
       " 'again',\n",
       " 'further',\n",
       " 'then',\n",
       " 'once',\n",
       " 'here',\n",
       " 'there',\n",
       " 'when',\n",
       " 'where',\n",
       " 'why',\n",
       " 'how',\n",
       " 'all',\n",
       " 'any',\n",
       " 'both',\n",
       " 'each',\n",
       " 'few',\n",
       " 'more',\n",
       " 'most',\n",
       " 'other',\n",
       " 'some',\n",
       " 'such',\n",
       " 'no',\n",
       " 'nor',\n",
       " 'not',\n",
       " 'only',\n",
       " 'own',\n",
       " 'same',\n",
       " 'so',\n",
       " 'than',\n",
       " 'too',\n",
       " 'very',\n",
       " 's',\n",
       " 't',\n",
       " 'can',\n",
       " 'will',\n",
       " 'just',\n",
       " 'don',\n",
       " \"don't\",\n",
       " 'should',\n",
       " \"should've\",\n",
       " 'now',\n",
       " 'd',\n",
       " 'll',\n",
       " 'm',\n",
       " 'o',\n",
       " 're',\n",
       " 've',\n",
       " 'y',\n",
       " 'ain',\n",
       " 'aren',\n",
       " \"aren't\",\n",
       " 'couldn',\n",
       " \"couldn't\",\n",
       " 'didn',\n",
       " \"didn't\",\n",
       " 'doesn',\n",
       " \"doesn't\",\n",
       " 'hadn',\n",
       " \"hadn't\",\n",
       " 'hasn',\n",
       " \"hasn't\",\n",
       " 'haven',\n",
       " \"haven't\",\n",
       " 'isn',\n",
       " \"isn't\",\n",
       " 'ma',\n",
       " 'mightn',\n",
       " \"mightn't\",\n",
       " 'mustn',\n",
       " \"mustn't\",\n",
       " 'needn',\n",
       " \"needn't\",\n",
       " 'shan',\n",
       " \"shan't\",\n",
       " 'shouldn',\n",
       " \"shouldn't\",\n",
       " 'wasn',\n",
       " \"wasn't\",\n",
       " 'weren',\n",
       " \"weren't\",\n",
       " 'won',\n",
       " \"won't\",\n",
       " 'wouldn',\n",
       " \"wouldn't\"]"
      ]
     },
     "execution_count": 14,
     "metadata": {},
     "output_type": "execute_result"
    }
   ],
   "source": [
    "from nltk.corpus import stopwords\n",
    "stopwords.words('english')"
   ]
  },
  {
   "cell_type": "markdown",
   "id": "648e1f86",
   "metadata": {},
   "source": [
    "**Term Frequency (TF)**\n",
    "\n",
    "The number of times a word appears in a document divded by the total number of words in the document. Every document has its own term frequency."
   ]
  },
  {
   "cell_type": "code",
   "execution_count": 20,
   "id": "cd57402d",
   "metadata": {},
   "outputs": [],
   "source": [
    "def computeTF(wordDict, bow):\n",
    "    tfDict  =dict()\n",
    "    bow_count = len(bow)\n",
    "    for word, count in wordDict.items():\n",
    "        tfDict[word] = count/float(bow_count)\n",
    "    return tfDict\n"
   ]
  },
  {
   "cell_type": "code",
   "execution_count": 22,
   "id": "b7a7182e",
   "metadata": {},
   "outputs": [
    {
     "data": {
      "text/plain": [
       "{'children': 0.0,\n",
       " 'man': 0.14285714285714285,\n",
       " 'a': 0.14285714285714285,\n",
       " 'fire': 0.0,\n",
       " 'the': 0.14285714285714285,\n",
       " 'sat': 0.0,\n",
       " 'around': 0.0,\n",
       " 'out': 0.14285714285714285,\n",
       " 'went': 0.14285714285714285,\n",
       " 'for': 0.14285714285714285,\n",
       " 'walk': 0.14285714285714285}"
      ]
     },
     "execution_count": 22,
     "metadata": {},
     "output_type": "execute_result"
    }
   ],
   "source": [
    "tfA = computeTF(wordsA, bag_of_wordsA)\n",
    "tfB = computeTF(wordsB, bag_of_wordsB)\n",
    "tfA"
   ]
  },
  {
   "cell_type": "markdown",
   "id": "92889fc2",
   "metadata": {},
   "source": [
    "**Inverse Data Frequency (IDF)**\n",
    "\n",
    "The log of the number of documents divided by the number of documents that contain the word w. Inverse data frequency determines the weight of rare words across all documents in the corpus."
   ]
  },
  {
   "cell_type": "code",
   "execution_count": 33,
   "id": "9b4c4d50",
   "metadata": {},
   "outputs": [],
   "source": [
    "import math\n",
    "def computeIDF(documents):\n",
    "    N = len(documents)\n",
    "    \n",
    "    idfDict = dict.fromkeys(documents[0].keys() , 0)\n",
    "    for document in documents:\n",
    "        for word , val in document.items():\n",
    "            if val>0:\n",
    "                idfDict[word]+=1\n",
    "    for word, val in idfDict.items():\n",
    "        idfDict[word] = math.log(N/float(val))\n",
    "    return idfDict"
   ]
  },
  {
   "cell_type": "code",
   "execution_count": 34,
   "id": "b4bff5c5",
   "metadata": {},
   "outputs": [
    {
     "data": {
      "text/plain": [
       "{'children': 0.6931471805599453,\n",
       " 'man': 0.6931471805599453,\n",
       " 'a': 0.6931471805599453,\n",
       " 'fire': 0.6931471805599453,\n",
       " 'the': 0.0,\n",
       " 'sat': 0.6931471805599453,\n",
       " 'around': 0.6931471805599453,\n",
       " 'out': 0.6931471805599453,\n",
       " 'went': 0.6931471805599453,\n",
       " 'for': 0.6931471805599453,\n",
       " 'walk': 0.6931471805599453}"
      ]
     },
     "execution_count": 34,
     "metadata": {},
     "output_type": "execute_result"
    }
   ],
   "source": [
    "idfs = computeIDF([wordsA,wordsB])\n",
    "idfs"
   ]
  },
  {
   "cell_type": "code",
   "execution_count": 35,
   "id": "1d2b800f",
   "metadata": {},
   "outputs": [],
   "source": [
    "def computeTFIDF(tfBagOfWords, idfs):\n",
    "    tfidf = {}\n",
    "    for word, val in tfBagOfWords.items():\n",
    "        tfidf[word] = val * idfs[word]\n",
    "    return tfidf"
   ]
  },
  {
   "cell_type": "code",
   "execution_count": 36,
   "id": "f36d7610",
   "metadata": {},
   "outputs": [
    {
     "data": {
      "text/html": [
       "<div>\n",
       "<style scoped>\n",
       "    .dataframe tbody tr th:only-of-type {\n",
       "        vertical-align: middle;\n",
       "    }\n",
       "\n",
       "    .dataframe tbody tr th {\n",
       "        vertical-align: top;\n",
       "    }\n",
       "\n",
       "    .dataframe thead th {\n",
       "        text-align: right;\n",
       "    }\n",
       "</style>\n",
       "<table border=\"1\" class=\"dataframe\">\n",
       "  <thead>\n",
       "    <tr style=\"text-align: right;\">\n",
       "      <th></th>\n",
       "      <th>children</th>\n",
       "      <th>man</th>\n",
       "      <th>a</th>\n",
       "      <th>fire</th>\n",
       "      <th>the</th>\n",
       "      <th>sat</th>\n",
       "      <th>around</th>\n",
       "      <th>out</th>\n",
       "      <th>went</th>\n",
       "      <th>for</th>\n",
       "      <th>walk</th>\n",
       "    </tr>\n",
       "  </thead>\n",
       "  <tbody>\n",
       "    <tr>\n",
       "      <th>0</th>\n",
       "      <td>0.000000</td>\n",
       "      <td>0.099021</td>\n",
       "      <td>0.099021</td>\n",
       "      <td>0.000000</td>\n",
       "      <td>0.0</td>\n",
       "      <td>0.000000</td>\n",
       "      <td>0.000000</td>\n",
       "      <td>0.099021</td>\n",
       "      <td>0.099021</td>\n",
       "      <td>0.099021</td>\n",
       "      <td>0.099021</td>\n",
       "    </tr>\n",
       "    <tr>\n",
       "      <th>1</th>\n",
       "      <td>0.115525</td>\n",
       "      <td>0.000000</td>\n",
       "      <td>0.000000</td>\n",
       "      <td>0.115525</td>\n",
       "      <td>0.0</td>\n",
       "      <td>0.115525</td>\n",
       "      <td>0.115525</td>\n",
       "      <td>0.000000</td>\n",
       "      <td>0.000000</td>\n",
       "      <td>0.000000</td>\n",
       "      <td>0.000000</td>\n",
       "    </tr>\n",
       "  </tbody>\n",
       "</table>\n",
       "</div>"
      ],
      "text/plain": [
       "   children       man         a      fire  the       sat    around       out  \\\n",
       "0  0.000000  0.099021  0.099021  0.000000  0.0  0.000000  0.000000  0.099021   \n",
       "1  0.115525  0.000000  0.000000  0.115525  0.0  0.115525  0.115525  0.000000   \n",
       "\n",
       "       went       for      walk  \n",
       "0  0.099021  0.099021  0.099021  \n",
       "1  0.000000  0.000000  0.000000  "
      ]
     },
     "execution_count": 36,
     "metadata": {},
     "output_type": "execute_result"
    }
   ],
   "source": [
    "tfidfA = computeTFIDF(tfA, idfs)\n",
    "tfidfB = computeTFIDF(tfB, idfs)\n",
    "df = pd.DataFrame([tfidfA, tfidfB])\n",
    "df"
   ]
  },
  {
   "cell_type": "code",
   "execution_count": 43,
   "id": "ef276238",
   "metadata": {},
   "outputs": [
    {
     "data": {
      "text/plain": [
       "'the man went out for a walk'"
      ]
     },
     "execution_count": 43,
     "metadata": {},
     "output_type": "execute_result"
    }
   ],
   "source": []
  },
  {
   "cell_type": "code",
   "execution_count": 46,
   "id": "16dc9664",
   "metadata": {},
   "outputs": [
    {
     "data": {
      "text/html": [
       "<div>\n",
       "<style scoped>\n",
       "    .dataframe tbody tr th:only-of-type {\n",
       "        vertical-align: middle;\n",
       "    }\n",
       "\n",
       "    .dataframe tbody tr th {\n",
       "        vertical-align: top;\n",
       "    }\n",
       "\n",
       "    .dataframe thead th {\n",
       "        text-align: right;\n",
       "    }\n",
       "</style>\n",
       "<table border=\"1\" class=\"dataframe\">\n",
       "  <thead>\n",
       "    <tr style=\"text-align: right;\">\n",
       "      <th></th>\n",
       "      <th>around</th>\n",
       "      <th>children</th>\n",
       "      <th>fire</th>\n",
       "      <th>for</th>\n",
       "      <th>man</th>\n",
       "      <th>out</th>\n",
       "      <th>sat</th>\n",
       "      <th>the</th>\n",
       "      <th>walk</th>\n",
       "      <th>went</th>\n",
       "    </tr>\n",
       "  </thead>\n",
       "  <tbody>\n",
       "    <tr>\n",
       "      <th>0</th>\n",
       "      <td>0.000000</td>\n",
       "      <td>0.000000</td>\n",
       "      <td>0.000000</td>\n",
       "      <td>0.42616</td>\n",
       "      <td>0.42616</td>\n",
       "      <td>0.42616</td>\n",
       "      <td>0.000000</td>\n",
       "      <td>0.303216</td>\n",
       "      <td>0.42616</td>\n",
       "      <td>0.42616</td>\n",
       "    </tr>\n",
       "    <tr>\n",
       "      <th>1</th>\n",
       "      <td>0.407401</td>\n",
       "      <td>0.407401</td>\n",
       "      <td>0.407401</td>\n",
       "      <td>0.00000</td>\n",
       "      <td>0.00000</td>\n",
       "      <td>0.00000</td>\n",
       "      <td>0.407401</td>\n",
       "      <td>0.579739</td>\n",
       "      <td>0.00000</td>\n",
       "      <td>0.00000</td>\n",
       "    </tr>\n",
       "  </tbody>\n",
       "</table>\n",
       "</div>"
      ],
      "text/plain": [
       "     around  children      fire      for      man      out       sat  \\\n",
       "0  0.000000  0.000000  0.000000  0.42616  0.42616  0.42616  0.000000   \n",
       "1  0.407401  0.407401  0.407401  0.00000  0.00000  0.00000  0.407401   \n",
       "\n",
       "        the     walk     went  \n",
       "0  0.303216  0.42616  0.42616  \n",
       "1  0.579739  0.00000  0.00000  "
      ]
     },
     "execution_count": 46,
     "metadata": {},
     "output_type": "execute_result"
    }
   ],
   "source": [
    "vectorizer = TfidfVectorizer()\n",
    "vectors = vectorizer.fit_transform([documentA, documentB])\n",
    "feature_names = vectorizer.get_feature_names_out()\n",
    "dense = vectors.todense()\n",
    "denselist = dense.tolist()\n",
    "df = pd.DataFrame(denselist, columns = feature_names)\n",
    "df"
   ]
  },
  {
   "cell_type": "code",
   "execution_count": null,
   "id": "f637124a",
   "metadata": {},
   "outputs": [],
   "source": []
  }
 ],
 "metadata": {
  "celltoolbar": "Raw Cell Format",
  "kernelspec": {
   "display_name": "Python 3 (ipykernel)",
   "language": "python",
   "name": "python3"
  },
  "language_info": {
   "codemirror_mode": {
    "name": "ipython",
    "version": 3
   },
   "file_extension": ".py",
   "mimetype": "text/x-python",
   "name": "python",
   "nbconvert_exporter": "python",
   "pygments_lexer": "ipython3",
   "version": "3.10.6"
  },
  "papermill": {
   "default_parameters": {},
   "duration": 13.724372,
   "end_time": "2023-06-07T07:20:09.475569",
   "environment_variables": {},
   "exception": null,
   "input_path": "__notebook__.ipynb",
   "output_path": "__notebook__.ipynb",
   "parameters": {},
   "start_time": "2023-06-07T07:19:55.751197",
   "version": "2.4.0"
  }
 },
 "nbformat": 4,
 "nbformat_minor": 5
}
