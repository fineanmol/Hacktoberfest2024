{
 "cells": [
  {
   "cell_type": "code",
   "execution_count": 3,
   "metadata": {},
   "outputs": [],
   "source": [
    "import cv2\n",
    "import numpy as np\n",
    "import pyautogui as pg\n",
    "import mediapipe as mp"
   ]
  },
  {
   "cell_type": "markdown",
   "metadata": {},
   "source": [
    "Check hands"
   ]
  },
  {
   "cell_type": "code",
   "execution_count": 4,
   "metadata": {},
   "outputs": [],
   "source": [
    "r=100\n",
    "\n",
    "\n",
    "mpHands = mp.solutions.hands\n",
    "hands = mpHands.Hands(static_image_mode=False,\n",
    "                      max_num_hands=2,\n",
    "                      min_detection_confidence=0.7,\n",
    "                      min_tracking_confidence=0.5)\n",
    "mpDraw = mp.solutions.drawing_utils\n",
    "\n",
    "screenWidth, screenHeight = pg.size()\n",
    "screenWidth=screenWidth\n",
    "screenHeight=screenHeight\n",
    "pg.FAILSAFE=False\n",
    "cap=cv2.VideoCapture(0)\n",
    "cap.set(3,700)\n",
    "cap.set(4,700)\n",
    "pTime=0\n",
    "while True:\n",
    "    lmList=[]\n",
    "    success,img=cap.read()\n",
    "    h, w, c = img.shape\n",
    "    img=cv2.flip(img,1)\n",
    "    imgRGB = cv2.cvtColor(img, cv2.COLOR_BGR2RGB)\n",
    "    results = hands.process(imgRGB)\n",
    "    if results.multi_hand_landmarks:\n",
    "        for handLms in results.multi_hand_landmarks:\n",
    "            for id, lm in enumerate(handLms.landmark):\n",
    "                #print(id,lm)\n",
    "                \n",
    "                cx, cy = int(lm.x *w), int(lm.y*h)\n",
    "                lmList.append([id,cx,cy])\n",
    "        mpDraw.draw_landmarks(img, handLms, mpHands.HAND_CONNECTIONS)\n",
    "\n",
    "    if(len(lmList)>0):\n",
    "        fingers = []\n",
    "        tipIds = [4, 8, 12, 16, 20]\n",
    "            # Thumb\n",
    "        if lmList[tipIds[0]][1] > lmList[tipIds[0] - 1][1]:\n",
    "            fingers.append(1)\n",
    "        else:\n",
    "            fingers.append(0)\n",
    "    \n",
    "            # Fingers\n",
    "        for id in range(1, 5):\n",
    "    \n",
    "            if lmList[tipIds[id]][2] < lmList[tipIds[id] - 2][2]:\n",
    "                fingers.append(1)\n",
    "            else:\n",
    "                fingers.append(0)\n",
    "\n",
    "        if(fingers[1]==1):\n",
    "            cy=np.interp(lmList[5][2],[r,h-r],[0,screenHeight])\n",
    "            cx=np.interp(lmList[5][1],[r,w-r],[0,screenWidth])\n",
    "            pg.moveTo(cx,cy)\n",
    "            if(fingers[0]==1 and fingers[2]==1):\n",
    "                pg.click()\n",
    "            if(fingers[0]==0):\n",
    "                pg.alert('This is the message to display.')\n",
    "\n",
    "            \n",
    "\n",
    "\n",
    "\n",
    "    cv2.imshow(\"Click\",img)\n",
    "    cv2.waitKey(1)"
   ]
  }
 ],
 "metadata": {
  "interpreter": {
   "hash": "2be5faf79681da6f2a61fdfdd5405d65d042280f7fba6178067603e3a2925119"
  },
  "kernelspec": {
   "display_name": "Python 3.10.2 64-bit",
   "language": "python",
   "name": "python3"
  },
  "language_info": {
   "codemirror_mode": {
    "name": "ipython",
    "version": 3
   },
   "file_extension": ".py",
   "mimetype": "text/x-python",
   "name": "python",
   "nbconvert_exporter": "python",
   "pygments_lexer": "ipython3",
   "version": "3.10.2"
  },
  "orig_nbformat": 4
 },
 "nbformat": 4,
 "nbformat_minor": 2
}
