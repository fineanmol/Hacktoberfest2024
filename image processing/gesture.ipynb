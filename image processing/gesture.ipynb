{
 "cells": [
  {
   "cell_type": "markdown",
   "metadata": {},
   "source": [
    "Import packages"
   ]
  },
  {
   "cell_type": "code",
   "execution_count": 1,
   "metadata": {},
   "outputs": [],
   "source": [
    "import cv2\n",
    "import numpy as np\n",
    "import math\n",
    "import mediapipe as mp\n",
    "from ctypes import cast, POINTER\n",
    "from comtypes import CLSCTX_ALL\n",
    "from pycaw.pycaw import AudioUtilities, IAudioEndpointVolume"
   ]
  },
  {
   "cell_type": "code",
   "execution_count": 2,
   "metadata": {},
   "outputs": [],
   "source": [
    "mpHands = mp.solutions.hands\n",
    "hands = mpHands.Hands(static_image_mode=False,\n",
    "                      max_num_hands=2,\n",
    "                      min_detection_confidence=0.7,\n",
    "                      min_tracking_confidence=0.5)\n",
    "mpDraw = mp.solutions.drawing_utils\n",
    "\n",
    "devices = AudioUtilities.GetSpeakers()\n",
    "interface = devices.Activate(\n",
    "    IAudioEndpointVolume._iid_, CLSCTX_ALL, None)\n",
    "volume = cast(interface, POINTER(IAudioEndpointVolume))\n",
    "volRange=volume.GetVolumeRange()\n",
    "vol=volume.GetMasterVolumeLevel()\n",
    "\n",
    "cap=cv2.VideoCapture(0)\n",
    "cap.set(3,700)\n",
    "cap.set(4,700)\n",
    "pTime=0\n",
    "while True:\n",
    "    lmList=[]\n",
    "    success,img=cap.read()\n",
    "    img=cv2.flip(img,1)\n",
    "    imgRGB = cv2.cvtColor(img, cv2.COLOR_BGR2RGB)\n",
    "    results = hands.process(imgRGB)\n",
    "\n",
    "    if results.multi_hand_landmarks:\n",
    "        for handLms in results.multi_hand_landmarks:\n",
    "            for id, lm in enumerate(handLms.landmark):\n",
    "                #print(id,lm)\n",
    "                h, w, c = img.shape\n",
    "                \n",
    "                cx, cy = int(lm.x *w), int(lm.y*h)\n",
    "                lmList.append([id,cx,cy])\n",
    "            #mpDraw.draw_landmarks(img, handLms, mpHands.HAND_CONNECTIONS)\n",
    "    if(len(lmList)>0):\n",
    "        cv2.circle(img, (lmList[4][1],lmList[4][2]), 5, (255,0,255), cv2.FILLED)\n",
    "        cv2.circle(img, (lmList[8][1],lmList[8][2]), 5, (255,0,255), cv2.FILLED)\n",
    "        cv2.line(img,(lmList[4][1],lmList[4][2]),(lmList[8][1],lmList[8][2]),(255,0,255),3)\n",
    "        length=math.hypot(lmList[4][1]-lmList[8][1],lmList[4][2]-lmList[8][2])\n",
    "        #print(length,volRange[0])\n",
    "        vol=np.interp(length,[14,140],[volRange[0],volRange[1]])\n",
    "        volume.SetMasterVolumeLevel(vol, None)\n",
    "        #volume range -96 0\n",
    "        #length 140  14\n",
    "\n",
    "    \n",
    "    volBar=np.interp(vol,[-96,0],[100,0])\n",
    "    cv2.rectangle(img, (0,int(volBar)),(30,200), (255,0,255), cv2.FILLED)\n",
    "    cv2.imshow(\"Volume Control\",img)\n",
    "    cv2.waitKey(1)\n"
   ]
  },
  {
   "cell_type": "code",
   "execution_count": null,
   "metadata": {},
   "outputs": [],
   "source": []
  }
 ],
 "metadata": {
  "interpreter": {
   "hash": "bcba56e771b87cb2b35205c7963a63495925b4f25cd694285c8cc6e64c7963e1"
  },
  "kernelspec": {
   "display_name": "Python 3.9.7 ('base')",
   "language": "python",
   "name": "python3"
  },
  "language_info": {
   "codemirror_mode": {
    "name": "ipython",
    "version": 3
   },
   "file_extension": ".py",
   "mimetype": "text/x-python",
   "name": "python",
   "nbconvert_exporter": "python",
   "pygments_lexer": "ipython3",
   "version": "3.10.2"
  },
  "orig_nbformat": 4
 },
 "nbformat": 4,
 "nbformat_minor": 2
}
