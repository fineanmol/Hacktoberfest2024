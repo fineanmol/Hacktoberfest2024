{
 "cells": [
  {
   "cell_type": "markdown",
   "metadata": {},
   "source": [
    "Cartoonify any image"
   ]
  },
  {
   "cell_type": "code",
   "execution_count": 106,
   "metadata": {},
   "outputs": [],
   "source": [
    "# import libraries\n",
    "import cv2\n",
    "import numpy as np"
   ]
  },
  {
   "cell_type": "markdown",
   "metadata": {},
   "source": [
    "Create function"
   ]
  },
  {
   "cell_type": "code",
   "execution_count": 107,
   "metadata": {},
   "outputs": [],
   "source": [
    "def read_image(filename):\n",
    "    img=cv2.imread(filename)\n",
    "    return img"
   ]
  },
  {
   "cell_type": "code",
   "execution_count": 108,
   "metadata": {},
   "outputs": [],
   "source": [
    "def edge_detection(img,line,blur):\n",
    "    gray=cv2.cvtColor(img,cv2.COLOR_BGR2GRAY)\n",
    "    edges=cv2.adaptiveThreshold(gray,255,cv2.ADAPTIVE_THRESH_GAUSSIAN_C,cv2.THRESH_BINARY,line,blur)\n",
    "    return edges"
   ]
  },
  {
   "cell_type": "code",
   "execution_count": 109,
   "metadata": {},
   "outputs": [],
   "source": [
    "def color_quantisation(img,k):\n",
    "    data=np.float32(img).reshape((-1,3))\n",
    "    criteria=(cv2.TermCriteria_EPS+cv2.TermCriteria_MAX_ITER,20,1.0)\n",
    "    ret,label,center=cv2.kmeans(data,k,None,criteria,10,cv2.KMEANS_RANDOM_CENTERS)\n",
    "    center=np.uint8(center)\n",
    "    result=center[label.flatten()]\n",
    "    result=result.reshape(img.shape)\n",
    "    return result\n"
   ]
  },
  {
   "cell_type": "code",
   "execution_count": 110,
   "metadata": {},
   "outputs": [],
   "source": [
    "def create_sketch(img):\n",
    "    gray=cv2.cvtColor(img,cv2.COLOR_BGR2GRAY)\n",
    "    invert_image=cv2.bitwise_not(gray)\n",
    "\n",
    "    blur_img=cv2.GaussianBlur(invert_image, (111,111),0)\n",
    "    inv_blur=cv2.bitwise_not(blur_img)\n",
    "\n",
    "    img=edge_detection(img,15,7)\n",
    "    cv2.imwrite(\"edge.jpg\",img)\n",
    "\n",
    "    invert=cv2.divide(gray,inv_blur, scale=250.0)\n",
    "    cv2.imwrite(\"sketch.jpg\",invert)\n",
    "\n",
    "    final=cv2.bitwise_and(img,invert)\n",
    "    cv2.imwrite(\"final.jpg\",final)"
   ]
  },
  {
   "cell_type": "code",
   "execution_count": 111,
   "metadata": {},
   "outputs": [],
   "source": [
    "def create_cartoon(img):\n",
    "    img_new=edge_detection(img,11,9)\n",
    "    img=color_quantisation(img,50)\n",
    "    blurred=cv2.bilateralFilter(img,7,200,200)\n",
    "    cartoon=cv2.bitwise_and(blurred,blurred,mask=img_new)\n",
    "    cv2.imwrite(\"cartoon.jpg\",cartoon)"
   ]
  },
  {
   "cell_type": "code",
   "execution_count": 112,
   "metadata": {},
   "outputs": [],
   "source": [
    "img=read_image(\"./huii.jpeg\")\n",
    "create_sketch(img)\n",
    "#edge_save(img)\n",
    "#create_cartoon(img)"
   ]
  },
  {
   "cell_type": "code",
   "execution_count": null,
   "metadata": {},
   "outputs": [],
   "source": []
  }
 ],
 "metadata": {
  "interpreter": {
   "hash": "2be5faf79681da6f2a61fdfdd5405d65d042280f7fba6178067603e3a2925119"
  },
  "kernelspec": {
   "display_name": "Python 3.10.2 64-bit",
   "language": "python",
   "name": "python3"
  },
  "language_info": {
   "codemirror_mode": {
    "name": "ipython",
    "version": 3
   },
   "file_extension": ".py",
   "mimetype": "text/x-python",
   "name": "python",
   "nbconvert_exporter": "python",
   "pygments_lexer": "ipython3",
   "version": "3.10.2"
  },
  "orig_nbformat": 4
 },
 "nbformat": 4,
 "nbformat_minor": 2
}
