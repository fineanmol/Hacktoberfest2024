{
 "cells": [
  {
   "cell_type": "code",
   "execution_count": 29,
   "metadata": {},
   "outputs": [
    {
     "name": "stdout",
     "output_type": "stream",
     "text": [
      "hELLO wORLd"
     ]
    }
   ],
   "source": [
    "v=\"Hello WorlD\"\n",
    "for i in v:\n",
    "    c=ord(i)\n",
    "    if(c==32):\n",
    "        print(i,end=\"\")\n",
    "    if(c>=65 and c<=90):\n",
    "        print(chr(c+32),end=\"\")\n",
    "    elif(c>=97 and c<=122):\n",
    "        print(chr(c-32),end=\"\")"
   ]
  },
  {
   "cell_type": "code",
   "execution_count": 38,
   "metadata": {},
   "outputs": [
    {
     "name": "stdout",
     "output_type": "stream",
     "text": [
      "0 1 0 0 0 5 6 "
     ]
    }
   ],
   "source": [
    "v=[1,5,6]\n",
    "t=[]\n",
    "max=0\n",
    "for i in v:\n",
    "    if(i>max):\n",
    "        max=i\n",
    "for j in range(0,max+1):\n",
    "    if(j in v):\n",
    "        t.append(j)\n",
    "    else:\n",
    "        t.append(0)\n",
    "for i in t:\n",
    "    print(i,end=\" \")"
   ]
  },
  {
   "cell_type": "code",
   "execution_count": 42,
   "metadata": {},
   "outputs": [
    {
     "name": "stdout",
     "output_type": "stream",
     "text": [
      "YES\n"
     ]
    }
   ],
   "source": [
    "l=3\n",
    "p=4\n",
    "k=5\n",
    "\n",
    "if(k*k==(l*l+p*p)):\n",
    "    print(\"YES\")\n",
    "else:\n",
    "    print(\"NO\")\n",
    "    "
   ]
  },
  {
   "cell_type": "code",
   "execution_count": 52,
   "metadata": {},
   "outputs": [
    {
     "name": "stdout",
     "output_type": "stream",
     "text": [
      "input\n"
     ]
    }
   ],
   "source": [
    "h=\"hey#input#bye\"\n",
    "l=h.split(\"#\")\n",
    "k=\"\"\n",
    "for i in sorted(l,reverse=True):\n",
    "    k=k+i+\"#\"\n",
    "print(k[:len(k)-1])"
   ]
  }
 ],
 "metadata": {
  "interpreter": {
   "hash": "2be5faf79681da6f2a61fdfdd5405d65d042280f7fba6178067603e3a2925119"
  },
  "kernelspec": {
   "display_name": "Python 3.10.2 64-bit",
   "language": "python",
   "name": "python3"
  },
  "language_info": {
   "codemirror_mode": {
    "name": "ipython",
    "version": 3
   },
   "file_extension": ".py",
   "mimetype": "text/x-python",
   "name": "python",
   "nbconvert_exporter": "python",
   "pygments_lexer": "ipython3",
   "version": "3.10.2"
  },
  "orig_nbformat": 4
 },
 "nbformat": 4,
 "nbformat_minor": 2
}
